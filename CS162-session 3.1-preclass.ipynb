{
 "cells": [
  {
   "cell_type": "code",
   "execution_count": 3,
   "metadata": {},
   "outputs": [],
   "source": [
    "class end_user():\n",
    "    def __init__(self,name,tag=\"Student\"):\n",
    "        self.username=name\n",
    "        self.inclass=False\n",
    "        self.microphone=False\n",
    "        self.tag=tag\n",
    "\n",
    "    def __repr__(self):\n",
    "        return (\"%s is a %s\" % (self.username,self.tag))\n",
    "\n",
    "    def enter_class(self):\n",
    "        if ~self.inclass:\n",
    "            self.inclass=True\n",
    "\n",
    "    def exit_class(self):\n",
    "        if self.inclass:\n",
    "            self.inclass=False\n",
    "\n",
    "    def talk(self):\n",
    "        if ~self.microphone:\n",
    "            self.microphone=True\n",
    "\n"
   ]
  },
  {
   "cell_type": "code",
   "execution_count": 2,
   "metadata": {},
   "outputs": [
    {
     "name": "stdout",
     "output_type": "stream",
     "text": [
      "Sterne is a professor\n",
      "You have started a breakout discussion.\n",
      "Sterne is a professor\n",
      "You have started a breakout discussion.\n",
      "Sterne is a professor\n",
      "You have ended a breakout discussion.\n",
      "Sterne is a professor\n",
      "You have ended a breakout discussion.\n"
     ]
    }
   ],
   "source": [
    "class professor(end_user):\n",
    "    def __init__(self,name,tag=\"professor\"):\n",
    "        super().__init__(name,tag)\n",
    "\n",
    "    def start_breakout(self):\n",
    "        print(\"You have started a breakout discussion.\")\n",
    "    def end_breakout(self):\n",
    "         print(\"You have ended a breakout discussion.\")\n",
    "\n",
    "\n",
    "Sterne=professor(\"Sterne\")\n",
    "print(Sterne)\n",
    "Sterne.start_breakout()\n",
    "\n",
    "Sterne=professor(\"Sterne\")\n",
    "print(Sterne)\n",
    "Sterne.start_breakout()\n",
    "\n",
    "Sterne=professor(\"Sterne\")\n",
    "print(Sterne)\n",
    "Sterne.end_breakout()\n",
    "\n",
    "Sterne=professor(\"Sterne\")\n",
    "print(Sterne)\n",
    "Sterne.end_breakout()"
   ]
  },
  {
   "cell_type": "markdown",
   "metadata": {},
   "source": [
    "#2. Bug or feature?"
   ]
  },
  {
   "cell_type": "markdown",
   "metadata": {},
   "source": [
    "Notice that a tomato can now also appear inside a fruit salad without any errors. Is this a bug or a feature? Make arguments for both sides.\n",
    "\n",
    "This is a feature"
   ]
  },
  {
   "cell_type": "code",
   "execution_count": null,
   "metadata": {},
   "outputs": [],
   "source": []
  }
 ],
 "metadata": {
  "kernelspec": {
   "display_name": "Python 3",
   "language": "python",
   "name": "python3"
  },
  "language_info": {
   "codemirror_mode": {
    "name": "ipython",
    "version": 3
   },
   "file_extension": ".py",
   "mimetype": "text/x-python",
   "name": "python",
   "nbconvert_exporter": "python",
   "pygments_lexer": "ipython3",
   "version": "3.7.6"
  }
 },
 "nbformat": 4,
 "nbformat_minor": 2
}
